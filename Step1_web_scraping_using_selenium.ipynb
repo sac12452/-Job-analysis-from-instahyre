{
 "cells": [
  {
   "cell_type": "code",
   "execution_count": 1,
   "id": "2ffe1ae2",
   "metadata": {},
   "outputs": [],
   "source": [
    "import pandas as pd\n",
    "import time\n",
    "from selenium import webdriver\n",
    "from selenium.webdriver import Chrome\n",
    "from selenium.webdriver.common.keys import Keys\n",
    "from selenium.webdriver.common.by import By\n",
    "\n",
    "import pandas as pd\n",
    "import numpy as np"
   ]
  },
  {
   "cell_type": "code",
   "execution_count": 2,
   "id": "9eeb5fa2",
   "metadata": {},
   "outputs": [],
   "source": [
    "path = 'C:\\\\Users\\\\R\\\\Desktop\\\\MASAI\\\\PROJECT\\\\chromedriver.exe'"
   ]
  },
  {
   "cell_type": "code",
   "execution_count": 3,
   "id": "8066aa5c",
   "metadata": {},
   "outputs": [
    {
     "name": "stderr",
     "output_type": "stream",
     "text": [
      "C:\\Users\\Lenovo\\AppData\\Local\\Temp\\ipykernel_10836\\217355859.py:1: DeprecationWarning: executable_path has been deprecated, please pass in a Service object\n",
      "  browser = webdriver.Chrome(path)\n"
     ]
    }
   ],
   "source": [
    "browser = webdriver.Chrome(path)"
   ]
  },
  {
   "cell_type": "code",
   "execution_count": 4,
   "id": "96343480",
   "metadata": {},
   "outputs": [],
   "source": [
    "link = 'https://www.instahyre.com/search-jobs?company_size=0&isLandingPage=true&location=Anywhere+in+India&offset=0&search=true'\n",
    "browser.get(link)"
   ]
  },
  {
   "cell_type": "code",
   "execution_count": 5,
   "id": "58111257",
   "metadata": {},
   "outputs": [],
   "source": [
    "parent = browser.current_window_handle"
   ]
  },
  {
   "cell_type": "code",
   "execution_count": 6,
   "id": "e1a09b31",
   "metadata": {},
   "outputs": [
    {
     "ename": "NoSuchWindowException",
     "evalue": "Message: no such window: target window already closed\nfrom unknown error: web view not found\n  (Session info: chrome=113.0.5672.127)\nStacktrace:\nBacktrace:\n\tGetHandleVerifier [0x011C8893+48451]\n\t(No symbol) [0x0115B8A1]\n\t(No symbol) [0x01065058]\n\t(No symbol) [0x0104D073]\n\t(No symbol) [0x010ADEBB]\n\t(No symbol) [0x010B237F]\n\t(No symbol) [0x010AA283]\n\t(No symbol) [0x01087E08]\n\t(No symbol) [0x01088F2D]\n\tGetHandleVerifier [0x01428E3A+2540266]\n\tGetHandleVerifier [0x01468959+2801161]\n\tGetHandleVerifier [0x0146295C+2776588]\n\tGetHandleVerifier [0x01252280+612144]\n\t(No symbol) [0x01164F6C]\n\t(No symbol) [0x011611D8]\n\t(No symbol) [0x011612BB]\n\t(No symbol) [0x01154857]\n\tBaseThreadInitThunk [0x76617D59+25]\n\tRtlInitializeExceptionChain [0x7776B74B+107]\n\tRtlClearBits [0x7776B6CF+191]\n",
     "output_type": "error",
     "traceback": [
      "\u001b[1;31m---------------------------------------------------------------------------\u001b[0m",
      "\u001b[1;31mNoSuchWindowException\u001b[0m                     Traceback (most recent call last)",
      "Cell \u001b[1;32mIn[6], line 83\u001b[0m\n\u001b[0;32m     75\u001b[0m     job_details \u001b[38;5;241m=\u001b[39m {\u001b[38;5;124m'\u001b[39m\u001b[38;5;124mdesignation\u001b[39m\u001b[38;5;124m'\u001b[39m:designation, \u001b[38;5;124m'\u001b[39m\u001b[38;5;124mcompany_name\u001b[39m\u001b[38;5;124m'\u001b[39m:company_name,\u001b[38;5;124m'\u001b[39m\u001b[38;5;124mlocation\u001b[39m\u001b[38;5;124m'\u001b[39m:location, \u001b[38;5;124m'\u001b[39m\u001b[38;5;124mestab_year\u001b[39m\u001b[38;5;124m'\u001b[39m:estab_year,\n\u001b[0;32m     76\u001b[0m                    \u001b[38;5;124m'\u001b[39m\u001b[38;5;124memployees_count\u001b[39m\u001b[38;5;124m'\u001b[39m:employees_count, \u001b[38;5;124m'\u001b[39m\u001b[38;5;124mjob_description\u001b[39m\u001b[38;5;124m'\u001b[39m: job_description, \u001b[38;5;124m'\u001b[39m\u001b[38;5;124mskills\u001b[39m\u001b[38;5;124m'\u001b[39m:skills, \u001b[38;5;124m'\u001b[39m\u001b[38;5;124mhr_name\u001b[39m\u001b[38;5;124m'\u001b[39m:hr_name,\n\u001b[0;32m     77\u001b[0m                   \u001b[38;5;124m'\u001b[39m\u001b[38;5;124mexperience_req\u001b[39m\u001b[38;5;124m'\u001b[39m:experience_req, \u001b[38;5;124m'\u001b[39m\u001b[38;5;124memp_overall_rating\u001b[39m\u001b[38;5;124m'\u001b[39m:emp_overall_rating,\u001b[38;5;124m'\u001b[39m\u001b[38;5;124memp_wl_bal_rating\u001b[39m\u001b[38;5;124m'\u001b[39m:emp_wl_bal_rating,\n\u001b[0;32m     78\u001b[0m                   \u001b[38;5;124m'\u001b[39m\u001b[38;5;124memp_salary_n_benefits_rating\u001b[39m\u001b[38;5;124m'\u001b[39m:emp_salary_n_benefits_rating, \u001b[38;5;124m'\u001b[39m\u001b[38;5;124memp_comp_culture_rating\u001b[39m\u001b[38;5;124m'\u001b[39m:emp_comp_culture_rating,\n\u001b[0;32m     79\u001b[0m                   \u001b[38;5;124m'\u001b[39m\u001b[38;5;124memp_career_growth_rating\u001b[39m\u001b[38;5;124m'\u001b[39m:emp_career_growth_rating,\u001b[38;5;124m'\u001b[39m\u001b[38;5;124memp_diversity_n_inclusion_rating\u001b[39m\u001b[38;5;124m'\u001b[39m:emp_diversity_n_inclusion_rating,\n\u001b[0;32m     80\u001b[0m                   \u001b[38;5;124m'\u001b[39m\u001b[38;5;124memp_likely_to_recomm_rating\u001b[39m\u001b[38;5;124m'\u001b[39m:emp_likely_to_recomm_rating}\n\u001b[0;32m     82\u001b[0m     Job_list\u001b[38;5;241m.\u001b[39mappend(job_details)\n\u001b[1;32m---> 83\u001b[0m     \u001b[43mbrowser\u001b[49m\u001b[38;5;241;43m.\u001b[39;49m\u001b[43mclose\u001b[49m\u001b[43m(\u001b[49m\u001b[43m)\u001b[49m\n\u001b[0;32m     84\u001b[0m     browser\u001b[38;5;241m.\u001b[39mswitch_to\u001b[38;5;241m.\u001b[39mwindow(parent)\n\u001b[0;32m     86\u001b[0m next_botton \u001b[38;5;241m=\u001b[39m browser\u001b[38;5;241m.\u001b[39mfind_element(By\u001b[38;5;241m.\u001b[39mXPATH, \u001b[38;5;124m'\u001b[39m\u001b[38;5;124m.//*[@id=\u001b[39m\u001b[38;5;124m\"\u001b[39m\u001b[38;5;124mjob-function-page\u001b[39m\u001b[38;5;124m\"\u001b[39m\u001b[38;5;124m]/div[2]/div/div[1]/div[1]/div[11]/li[12]\u001b[39m\u001b[38;5;124m'\u001b[39m)\n",
      "File \u001b[1;32m~\\AppData\\Roaming\\Python\\Python310\\site-packages\\selenium\\webdriver\\remote\\webdriver.py:551\u001b[0m, in \u001b[0;36mWebDriver.close\u001b[1;34m(self)\u001b[0m\n\u001b[0;32m    543\u001b[0m \u001b[38;5;28;01mdef\u001b[39;00m \u001b[38;5;21mclose\u001b[39m(\u001b[38;5;28mself\u001b[39m) \u001b[38;5;241m-\u001b[39m\u001b[38;5;241m>\u001b[39m \u001b[38;5;28;01mNone\u001b[39;00m:\n\u001b[0;32m    544\u001b[0m     \u001b[38;5;124;03m\"\"\"Closes the current window.\u001b[39;00m\n\u001b[0;32m    545\u001b[0m \n\u001b[0;32m    546\u001b[0m \u001b[38;5;124;03m    :Usage:\u001b[39;00m\n\u001b[1;32m   (...)\u001b[0m\n\u001b[0;32m    549\u001b[0m \u001b[38;5;124;03m            driver.close()\u001b[39;00m\n\u001b[0;32m    550\u001b[0m \u001b[38;5;124;03m    \"\"\"\u001b[39;00m\n\u001b[1;32m--> 551\u001b[0m     \u001b[38;5;28;43mself\u001b[39;49m\u001b[38;5;241;43m.\u001b[39;49m\u001b[43mexecute\u001b[49m\u001b[43m(\u001b[49m\u001b[43mCommand\u001b[49m\u001b[38;5;241;43m.\u001b[39;49m\u001b[43mCLOSE\u001b[49m\u001b[43m)\u001b[49m\n",
      "File \u001b[1;32m~\\AppData\\Roaming\\Python\\Python310\\site-packages\\selenium\\webdriver\\remote\\webdriver.py:440\u001b[0m, in \u001b[0;36mWebDriver.execute\u001b[1;34m(self, driver_command, params)\u001b[0m\n\u001b[0;32m    438\u001b[0m response \u001b[38;5;241m=\u001b[39m \u001b[38;5;28mself\u001b[39m\u001b[38;5;241m.\u001b[39mcommand_executor\u001b[38;5;241m.\u001b[39mexecute(driver_command, params)\n\u001b[0;32m    439\u001b[0m \u001b[38;5;28;01mif\u001b[39;00m response:\n\u001b[1;32m--> 440\u001b[0m     \u001b[38;5;28;43mself\u001b[39;49m\u001b[38;5;241;43m.\u001b[39;49m\u001b[43merror_handler\u001b[49m\u001b[38;5;241;43m.\u001b[39;49m\u001b[43mcheck_response\u001b[49m\u001b[43m(\u001b[49m\u001b[43mresponse\u001b[49m\u001b[43m)\u001b[49m\n\u001b[0;32m    441\u001b[0m     response[\u001b[38;5;124m\"\u001b[39m\u001b[38;5;124mvalue\u001b[39m\u001b[38;5;124m\"\u001b[39m] \u001b[38;5;241m=\u001b[39m \u001b[38;5;28mself\u001b[39m\u001b[38;5;241m.\u001b[39m_unwrap_value(response\u001b[38;5;241m.\u001b[39mget(\u001b[38;5;124m\"\u001b[39m\u001b[38;5;124mvalue\u001b[39m\u001b[38;5;124m\"\u001b[39m, \u001b[38;5;28;01mNone\u001b[39;00m))\n\u001b[0;32m    442\u001b[0m     \u001b[38;5;28;01mreturn\u001b[39;00m response\n",
      "File \u001b[1;32m~\\AppData\\Roaming\\Python\\Python310\\site-packages\\selenium\\webdriver\\remote\\errorhandler.py:245\u001b[0m, in \u001b[0;36mErrorHandler.check_response\u001b[1;34m(self, response)\u001b[0m\n\u001b[0;32m    243\u001b[0m         alert_text \u001b[38;5;241m=\u001b[39m value[\u001b[38;5;124m\"\u001b[39m\u001b[38;5;124malert\u001b[39m\u001b[38;5;124m\"\u001b[39m]\u001b[38;5;241m.\u001b[39mget(\u001b[38;5;124m\"\u001b[39m\u001b[38;5;124mtext\u001b[39m\u001b[38;5;124m\"\u001b[39m)\n\u001b[0;32m    244\u001b[0m     \u001b[38;5;28;01mraise\u001b[39;00m exception_class(message, screen, stacktrace, alert_text)  \u001b[38;5;66;03m# type: ignore[call-arg]  # mypy is not smart enough here\u001b[39;00m\n\u001b[1;32m--> 245\u001b[0m \u001b[38;5;28;01mraise\u001b[39;00m exception_class(message, screen, stacktrace)\n",
      "\u001b[1;31mNoSuchWindowException\u001b[0m: Message: no such window: target window already closed\nfrom unknown error: web view not found\n  (Session info: chrome=113.0.5672.127)\nStacktrace:\nBacktrace:\n\tGetHandleVerifier [0x011C8893+48451]\n\t(No symbol) [0x0115B8A1]\n\t(No symbol) [0x01065058]\n\t(No symbol) [0x0104D073]\n\t(No symbol) [0x010ADEBB]\n\t(No symbol) [0x010B237F]\n\t(No symbol) [0x010AA283]\n\t(No symbol) [0x01087E08]\n\t(No symbol) [0x01088F2D]\n\tGetHandleVerifier [0x01428E3A+2540266]\n\tGetHandleVerifier [0x01468959+2801161]\n\tGetHandleVerifier [0x0146295C+2776588]\n\tGetHandleVerifier [0x01252280+612144]\n\t(No symbol) [0x01164F6C]\n\t(No symbol) [0x011611D8]\n\t(No symbol) [0x011612BB]\n\t(No symbol) [0x01154857]\n\tBaseThreadInitThunk [0x76617D59+25]\n\tRtlInitializeExceptionChain [0x7776B74B+107]\n\tRtlClearBits [0x7776B6CF+191]\n"
     ]
    }
   ],
   "source": [
    "Job_list = []\n",
    "\n",
    "for page in range(50):\n",
    "    view_button = browser.find_elements(By.ID, \"interested-btn\")\n",
    "    for i in view_button:\n",
    "        i.click()\n",
    "        time.sleep(3)\n",
    "        browser.switch_to.window(browser.window_handles[-1])\n",
    "\n",
    "        try:\n",
    "            designation = browser.find_element(By.XPATH, \".//h1[@class = 'ng-binding']\").text\n",
    "        except:\n",
    "            designation = ''\n",
    "        try:\n",
    "            company_name = browser.find_element(By.XPATH, \"//*[@id='floating-header']/div[1]/h2\").text\n",
    "        except:\n",
    "            company_name = ''\n",
    "        try:\n",
    "            location = browser.find_element(By.XPATH, \".//*[@id='floating-header']/div[1]/div/span[1]\").text\n",
    "        except:\n",
    "            location = ''\n",
    "        try:\n",
    "            estab_year = browser.find_element(By.XPATH, \"(//div[@class='ng-binding ng-scope'])[1]\").text\n",
    "        except:\n",
    "            estab_year = ''\n",
    "        try:\n",
    "            employees_count =  browser.find_element(By.XPATH, \"(//div[@class='ng-binding ng-scope'])[2]\").text\n",
    "        except:\n",
    "            employees_count = ''\n",
    "        try:\n",
    "            job_description =  browser.find_element(By.XPATH, \".//p[@class='ng-binding']\").text\n",
    "        except:\n",
    "            job_description = ''\n",
    "        try:\n",
    "            skills = browser.find_element(By.XPATH, \"//*[@id='job-skills-description']\").text\n",
    "        except:\n",
    "            skills = ''\n",
    "        try:\n",
    "            hr_name = browser.find_element(By.CLASS_NAME, \"rec-info\").text\n",
    "        except:\n",
    "            hr_name = ''\n",
    "        try:\n",
    "            experience_req = browser.find_element(By.XPATH, \"//*[@id='floating-header']/div[1]/div/span[2]\").text\n",
    "        except:\n",
    "            experience_req = ''\n",
    "        try:\n",
    "            emp_overall_rating = browser.find_element(By.XPATH, '//*[@id=\"employer-profile\"]/div[2]/div/div/div[1]/div[4]/div/div[1]/div[2]/span[2]').text\n",
    "        except:\n",
    "            emp_overall_rating = ''\n",
    "        try:\n",
    "            emp_wl_bal_rating = browser.find_element(By.XPATH, '//*[@id=\"employer-profile\"]/div[2]/div/div/div[1]/div[4]/div/div[2]/div[2]/span[2]').text\n",
    "        except:\n",
    "            emp_wl_bal_rating = ''\n",
    "        try:\n",
    "            emp_salary_n_benefits_rating = browser.find_element(By.XPATH, '//*[@id=\"employer-profile\"]/div[2]/div/div/div[1]/div[4]/div/div[3]/div[2]/span[2]').text\n",
    "        except:\n",
    "            emp_salary_n_benefits_rating = ''\n",
    "        try:\n",
    "            emp_comp_culture_rating = browser.find_element(By.XPATH, '//*[@id=\"employer-profile\"]/div[2]/div/div/div[1]/div[4]/div/div[4]/div[2]/span[2]').text\n",
    "        except:\n",
    "            emp_comp_culture_rating = ''\n",
    "        try:\n",
    "            emp_career_growth_rating = browser.find_element(By.XPATH, '//*[@id=\"employer-profile\"]/div[2]/div/div/div[1]/div[4]/div/div[5]/div[2]/span[2]').text\n",
    "        except:\n",
    "            emp_career_growth_rating = ''\n",
    "        try:\n",
    "            emp_diversity_n_inclusion_rating = browser.find_element(By.XPATH, '//*[@id=\"employer-profile\"]/div[2]/div/div/div[1]/div[4]/div/div[6]/div[2]/span[2]').text\n",
    "        except:\n",
    "            emp_diversity_n_inclusion_rating = ''\n",
    "        try:\n",
    "            emp_likely_to_recomm_rating = browser.find_element(By.XPATH, '//*[@id=\"employer-profile\"]/div[2]/div/div/div[1]/div[4]/div/div[7]/div[2]/span[2]').text\n",
    "        except:\n",
    "            emp_likely_to_recomm_rating = ''\n",
    "\n",
    "        job_details = {'designation':designation, 'company_name':company_name,'location':location, 'estab_year':estab_year,\n",
    "                       'employees_count':employees_count, 'job_description': job_description, 'skills':skills, 'hr_name':hr_name,\n",
    "                      'experience_req':experience_req, 'emp_overall_rating':emp_overall_rating,'emp_wl_bal_rating':emp_wl_bal_rating,\n",
    "                      'emp_salary_n_benefits_rating':emp_salary_n_benefits_rating, 'emp_comp_culture_rating':emp_comp_culture_rating,\n",
    "                      'emp_career_growth_rating':emp_career_growth_rating,'emp_diversity_n_inclusion_rating':emp_diversity_n_inclusion_rating,\n",
    "                      'emp_likely_to_recomm_rating':emp_likely_to_recomm_rating}\n",
    "\n",
    "        Job_list.append(job_details)\n",
    "        browser.close()\n",
    "        browser.switch_to.window(parent)\n",
    "        \n",
    "    next_botton = browser.find_element(By.XPATH, './/*[@id=\"job-function-page\"]/div[2]/div/div[1]/div[1]/div[11]/li[12]')\n",
    "    next_botton.click()\n",
    "    time.sleep(4)"
   ]
  },
  {
   "cell_type": "code",
   "execution_count": null,
   "id": "ac7471ec",
   "metadata": {},
   "outputs": [],
   "source": [
    "df1 = pd.DataFrame(Job_list)\n",
    "df1"
   ]
  },
  {
   "cell_type": "code",
   "execution_count": null,
   "id": "2ba9d1da",
   "metadata": {},
   "outputs": [],
   "source": [
    "df1.to_csv(\"Job_details500.csv\")"
   ]
  }
 ],
 "metadata": {
  "kernelspec": {
   "display_name": "Python 3 (ipykernel)",
   "language": "python",
   "name": "python3"
  },
  "language_info": {
   "codemirror_mode": {
    "name": "ipython",
    "version": 3
   },
   "file_extension": ".py",
   "mimetype": "text/x-python",
   "name": "python",
   "nbconvert_exporter": "python",
   "pygments_lexer": "ipython3",
   "version": "3.10.9"
  }
 },
 "nbformat": 4,
 "nbformat_minor": 5
}
